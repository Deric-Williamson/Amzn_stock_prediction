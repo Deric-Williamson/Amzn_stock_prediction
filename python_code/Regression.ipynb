{
 "cells": [
  {
   "cell_type": "markdown",
   "metadata": {},
   "source": [
    "## Import"
   ]
  },
  {
   "cell_type": "code",
   "execution_count": 21,
   "metadata": {},
   "outputs": [],
   "source": [
    "import pandas as pd\n",
    "import numpy as np\n",
    "\n",
    "from sklearn.model_selection import train_test_split, GridSearchCV\n",
    "from sklearn.preprocessing import StandardScaler, MinMaxScaler\n",
    "from sklearn import metrics\n",
    "from sklearn.feature_selection import f_classif\n",
    "\n",
    "from sklearn.tree import DecisionTreeRegressor\n",
    "from sklearn.svm import SVR\n",
    "from sklearn.neighbors import KNeighborsRegressor\n",
    "from sklearn.ensemble import RandomForestRegressor, AdaBoostRegressor, GradientBoostingRegressor\n",
    "\n",
    "from IPython.display import display\n",
    "pd.set_option('display.max_columns', None)\n",
    "\n",
    "from sklearn.neural_network import MLPRegressor"
   ]
  },
  {
   "cell_type": "code",
   "execution_count": 2,
   "metadata": {},
   "outputs": [],
   "source": [
    "df = pd.read_csv('data/Cleaned_amzn_df.csv',index_col='AMZN')\n",
    "df.dropna(inplace=True)"
   ]
  },
  {
   "cell_type": "code",
   "execution_count": 3,
   "metadata": {},
   "outputs": [
    {
     "data": {
      "text/html": [
       "<div>\n",
       "<style scoped>\n",
       "    .dataframe tbody tr th:only-of-type {\n",
       "        vertical-align: middle;\n",
       "    }\n",
       "\n",
       "    .dataframe tbody tr th {\n",
       "        vertical-align: top;\n",
       "    }\n",
       "\n",
       "    .dataframe thead th {\n",
       "        text-align: right;\n",
       "    }\n",
       "</style>\n",
       "<table border=\"1\" class=\"dataframe\">\n",
       "  <thead>\n",
       "    <tr style=\"text-align: right;\">\n",
       "      <th></th>\n",
       "      <th>Open</th>\n",
       "      <th>High</th>\n",
       "      <th>Low</th>\n",
       "      <th>Close</th>\n",
       "      <th>Volume</th>\n",
       "      <th>sentiment</th>\n",
       "      <th>next_day_close_percent</th>\n",
       "      <th>percent_increase</th>\n",
       "      <th>percent_increase_close</th>\n",
       "      <th>four_percent</th>\n",
       "      <th>SMA</th>\n",
       "      <th>SMA_diff</th>\n",
       "      <th>Stochastic</th>\n",
       "      <th>Stochastic_diff</th>\n",
       "      <th>rsi_up_var</th>\n",
       "      <th>rsi_down_var</th>\n",
       "      <th>RSI</th>\n",
       "      <th>RSI_diff</th>\n",
       "      <th>ROC</th>\n",
       "      <th>ROC_diff</th>\n",
       "      <th>tr</th>\n",
       "      <th>ATR</th>\n",
       "      <th>ATR_diff</th>\n",
       "      <th>pos_dx</th>\n",
       "      <th>neg_dx</th>\n",
       "      <th>dx</th>\n",
       "      <th>ADX</th>\n",
       "      <th>ADX_diff</th>\n",
       "    </tr>\n",
       "    <tr>\n",
       "      <th>AMZN</th>\n",
       "      <th></th>\n",
       "      <th></th>\n",
       "      <th></th>\n",
       "      <th></th>\n",
       "      <th></th>\n",
       "      <th></th>\n",
       "      <th></th>\n",
       "      <th></th>\n",
       "      <th></th>\n",
       "      <th></th>\n",
       "      <th></th>\n",
       "      <th></th>\n",
       "      <th></th>\n",
       "      <th></th>\n",
       "      <th></th>\n",
       "      <th></th>\n",
       "      <th></th>\n",
       "      <th></th>\n",
       "      <th></th>\n",
       "      <th></th>\n",
       "      <th></th>\n",
       "      <th></th>\n",
       "      <th></th>\n",
       "      <th></th>\n",
       "      <th></th>\n",
       "      <th></th>\n",
       "      <th></th>\n",
       "      <th></th>\n",
       "    </tr>\n",
       "  </thead>\n",
       "  <tbody>\n",
       "    <tr>\n",
       "      <th>2019-02-13</th>\n",
       "      <td>1647.00</td>\n",
       "      <td>1656.38</td>\n",
       "      <td>1637.110</td>\n",
       "      <td>1640.00</td>\n",
       "      <td>3560321.0</td>\n",
       "      <td>Sell</td>\n",
       "      <td>-1.057927</td>\n",
       "      <td>-0.128049</td>\n",
       "      <td>-0.757317</td>\n",
       "      <td>0</td>\n",
       "      <td>1625.578889</td>\n",
       "      <td>-8.747778</td>\n",
       "      <td>43.171235</td>\n",
       "      <td>1.173003</td>\n",
       "      <td>1.99</td>\n",
       "      <td>0.00</td>\n",
       "      <td>48.393345</td>\n",
       "      <td>-1.396206</td>\n",
       "      <td>-4.580708</td>\n",
       "      <td>-2.639890</td>\n",
       "      <td>19.27</td>\n",
       "      <td>47.920000</td>\n",
       "      <td>-0.443571</td>\n",
       "      <td>0.00</td>\n",
       "      <td>38.23</td>\n",
       "      <td>25.018348</td>\n",
       "      <td>29.017135</td>\n",
       "      <td>-0.391278</td>\n",
       "    </tr>\n",
       "    <tr>\n",
       "      <th>2019-02-14</th>\n",
       "      <td>1624.50</td>\n",
       "      <td>1637.90</td>\n",
       "      <td>1606.060</td>\n",
       "      <td>1622.65</td>\n",
       "      <td>4120524.0</td>\n",
       "      <td>Sell</td>\n",
       "      <td>-0.905925</td>\n",
       "      <td>0.757403</td>\n",
       "      <td>0.549102</td>\n",
       "      <td>0</td>\n",
       "      <td>1625.181111</td>\n",
       "      <td>-0.397778</td>\n",
       "      <td>32.944297</td>\n",
       "      <td>-10.226938</td>\n",
       "      <td>0.00</td>\n",
       "      <td>17.35</td>\n",
       "      <td>44.862118</td>\n",
       "      <td>-3.531227</td>\n",
       "      <td>-0.220141</td>\n",
       "      <td>4.360567</td>\n",
       "      <td>33.94</td>\n",
       "      <td>48.305000</td>\n",
       "      <td>0.385000</td>\n",
       "      <td>0.00</td>\n",
       "      <td>0.00</td>\n",
       "      <td>41.299223</td>\n",
       "      <td>27.570711</td>\n",
       "      <td>-1.446424</td>\n",
       "    </tr>\n",
       "    <tr>\n",
       "      <th>2019-02-15</th>\n",
       "      <td>1627.86</td>\n",
       "      <td>1628.91</td>\n",
       "      <td>1604.500</td>\n",
       "      <td>1607.95</td>\n",
       "      <td>4343893.0</td>\n",
       "      <td>Buy</td>\n",
       "      <td>1.220809</td>\n",
       "      <td>2.901210</td>\n",
       "      <td>1.557884</td>\n",
       "      <td>0</td>\n",
       "      <td>1622.363333</td>\n",
       "      <td>-2.817778</td>\n",
       "      <td>24.279399</td>\n",
       "      <td>-8.664898</td>\n",
       "      <td>0.00</td>\n",
       "      <td>14.70</td>\n",
       "      <td>46.661165</td>\n",
       "      <td>1.799047</td>\n",
       "      <td>-1.552675</td>\n",
       "      <td>-1.332534</td>\n",
       "      <td>24.41</td>\n",
       "      <td>46.014286</td>\n",
       "      <td>-2.290714</td>\n",
       "      <td>0.00</td>\n",
       "      <td>0.00</td>\n",
       "      <td>41.299223</td>\n",
       "      <td>26.966062</td>\n",
       "      <td>-0.604649</td>\n",
       "    </tr>\n",
       "    <tr>\n",
       "      <th>2019-02-19</th>\n",
       "      <td>1601.00</td>\n",
       "      <td>1634.00</td>\n",
       "      <td>1600.560</td>\n",
       "      <td>1627.58</td>\n",
       "      <td>3681656.0</td>\n",
       "      <td>Sell</td>\n",
       "      <td>-0.336696</td>\n",
       "      <td>1.660133</td>\n",
       "      <td>0.541909</td>\n",
       "      <td>0</td>\n",
       "      <td>1618.893333</td>\n",
       "      <td>-3.470000</td>\n",
       "      <td>35.850280</td>\n",
       "      <td>11.570881</td>\n",
       "      <td>19.63</td>\n",
       "      <td>0.00</td>\n",
       "      <td>53.974244</td>\n",
       "      <td>7.313079</td>\n",
       "      <td>-1.882675</td>\n",
       "      <td>-0.330000</td>\n",
       "      <td>33.44</td>\n",
       "      <td>45.033571</td>\n",
       "      <td>-0.980714</td>\n",
       "      <td>5.09</td>\n",
       "      <td>0.00</td>\n",
       "      <td>42.575272</td>\n",
       "      <td>24.074783</td>\n",
       "      <td>-2.891279</td>\n",
       "    </tr>\n",
       "    <tr>\n",
       "      <th>2019-02-20</th>\n",
       "      <td>1630.00</td>\n",
       "      <td>1634.93</td>\n",
       "      <td>1610.120</td>\n",
       "      <td>1622.10</td>\n",
       "      <td>3337589.0</td>\n",
       "      <td>Sell</td>\n",
       "      <td>-0.163985</td>\n",
       "      <td>2.003576</td>\n",
       "      <td>1.170705</td>\n",
       "      <td>0</td>\n",
       "      <td>1616.875556</td>\n",
       "      <td>-2.017778</td>\n",
       "      <td>32.620100</td>\n",
       "      <td>-3.230180</td>\n",
       "      <td>0.00</td>\n",
       "      <td>5.48</td>\n",
       "      <td>43.152645</td>\n",
       "      <td>-10.821599</td>\n",
       "      <td>-1.107142</td>\n",
       "      <td>0.775533</td>\n",
       "      <td>24.81</td>\n",
       "      <td>40.872143</td>\n",
       "      <td>-4.161429</td>\n",
       "      <td>0.00</td>\n",
       "      <td>9.56</td>\n",
       "      <td>22.878377</td>\n",
       "      <td>22.709063</td>\n",
       "      <td>-1.365721</td>\n",
       "    </tr>\n",
       "    <tr>\n",
       "      <th>...</th>\n",
       "      <td>...</td>\n",
       "      <td>...</td>\n",
       "      <td>...</td>\n",
       "      <td>...</td>\n",
       "      <td>...</td>\n",
       "      <td>...</td>\n",
       "      <td>...</td>\n",
       "      <td>...</td>\n",
       "      <td>...</td>\n",
       "      <td>...</td>\n",
       "      <td>...</td>\n",
       "      <td>...</td>\n",
       "      <td>...</td>\n",
       "      <td>...</td>\n",
       "      <td>...</td>\n",
       "      <td>...</td>\n",
       "      <td>...</td>\n",
       "      <td>...</td>\n",
       "      <td>...</td>\n",
       "      <td>...</td>\n",
       "      <td>...</td>\n",
       "      <td>...</td>\n",
       "      <td>...</td>\n",
       "      <td>...</td>\n",
       "      <td>...</td>\n",
       "      <td>...</td>\n",
       "      <td>...</td>\n",
       "      <td>...</td>\n",
       "    </tr>\n",
       "    <tr>\n",
       "      <th>2021-02-01</th>\n",
       "      <td>3242.36</td>\n",
       "      <td>3350.26</td>\n",
       "      <td>3235.025</td>\n",
       "      <td>3342.88</td>\n",
       "      <td>4160212.0</td>\n",
       "      <td>Buy</td>\n",
       "      <td>1.110420</td>\n",
       "      <td>2.725793</td>\n",
       "      <td>1.110420</td>\n",
       "      <td>0</td>\n",
       "      <td>3278.001111</td>\n",
       "      <td>24.680000</td>\n",
       "      <td>92.439454</td>\n",
       "      <td>49.184929</td>\n",
       "      <td>136.68</td>\n",
       "      <td>0.00</td>\n",
       "      <td>68.107886</td>\n",
       "      <td>16.021667</td>\n",
       "      <td>7.117497</td>\n",
       "      <td>3.833290</td>\n",
       "      <td>144.06</td>\n",
       "      <td>81.959714</td>\n",
       "      <td>5.097143</td>\n",
       "      <td>113.27</td>\n",
       "      <td>0.00</td>\n",
       "      <td>32.956101</td>\n",
       "      <td>18.797755</td>\n",
       "      <td>0.513129</td>\n",
       "    </tr>\n",
       "    <tr>\n",
       "      <th>2021-02-02</th>\n",
       "      <td>3380.00</td>\n",
       "      <td>3427.74</td>\n",
       "      <td>3361.125</td>\n",
       "      <td>3380.00</td>\n",
       "      <td>6183716.0</td>\n",
       "      <td>Sell</td>\n",
       "      <td>-1.996154</td>\n",
       "      <td>1.597633</td>\n",
       "      <td>-0.823964</td>\n",
       "      <td>0</td>\n",
       "      <td>3290.958889</td>\n",
       "      <td>12.957778</td>\n",
       "      <td>85.645127</td>\n",
       "      <td>-6.794327</td>\n",
       "      <td>37.12</td>\n",
       "      <td>0.00</td>\n",
       "      <td>69.577435</td>\n",
       "      <td>1.469549</td>\n",
       "      <td>3.573595</td>\n",
       "      <td>-3.543902</td>\n",
       "      <td>84.86</td>\n",
       "      <td>84.011014</td>\n",
       "      <td>2.051300</td>\n",
       "      <td>0.00</td>\n",
       "      <td>126.10</td>\n",
       "      <td>7.195686</td>\n",
       "      <td>17.470854</td>\n",
       "      <td>-1.326901</td>\n",
       "    </tr>\n",
       "    <tr>\n",
       "      <th>2021-02-03</th>\n",
       "      <td>3425.01</td>\n",
       "      <td>3434.00</td>\n",
       "      <td>3308.620</td>\n",
       "      <td>3312.53</td>\n",
       "      <td>7088781.0</td>\n",
       "      <td>Buy</td>\n",
       "      <td>0.557580</td>\n",
       "      <td>1.946247</td>\n",
       "      <td>1.196065</td>\n",
       "      <td>0</td>\n",
       "      <td>3291.574444</td>\n",
       "      <td>0.615556</td>\n",
       "      <td>64.150164</td>\n",
       "      <td>-21.494964</td>\n",
       "      <td>0.00</td>\n",
       "      <td>67.47</td>\n",
       "      <td>60.714286</td>\n",
       "      <td>-8.863149</td>\n",
       "      <td>0.167524</td>\n",
       "      <td>-3.406072</td>\n",
       "      <td>125.38</td>\n",
       "      <td>88.029586</td>\n",
       "      <td>4.018571</td>\n",
       "      <td>6.26</td>\n",
       "      <td>0.00</td>\n",
       "      <td>0.867212</td>\n",
       "      <td>17.325803</td>\n",
       "      <td>-0.145051</td>\n",
       "    </tr>\n",
       "    <tr>\n",
       "      <th>2021-02-04</th>\n",
       "      <td>3330.00</td>\n",
       "      <td>3347.00</td>\n",
       "      <td>3277.750</td>\n",
       "      <td>3331.00</td>\n",
       "      <td>3670661.0</td>\n",
       "      <td>Buy</td>\n",
       "      <td>0.634944</td>\n",
       "      <td>1.380967</td>\n",
       "      <td>0.634944</td>\n",
       "      <td>0</td>\n",
       "      <td>3295.882222</td>\n",
       "      <td>4.307778</td>\n",
       "      <td>69.601275</td>\n",
       "      <td>5.451111</td>\n",
       "      <td>18.47</td>\n",
       "      <td>0.00</td>\n",
       "      <td>65.317519</td>\n",
       "      <td>4.603233</td>\n",
       "      <td>1.177621</td>\n",
       "      <td>1.010097</td>\n",
       "      <td>69.25</td>\n",
       "      <td>88.875307</td>\n",
       "      <td>0.845721</td>\n",
       "      <td>0.00</td>\n",
       "      <td>0.00</td>\n",
       "      <td>0.867212</td>\n",
       "      <td>17.273923</td>\n",
       "      <td>-0.051880</td>\n",
       "    </tr>\n",
       "    <tr>\n",
       "      <th>2021-02-05</th>\n",
       "      <td>3319.00</td>\n",
       "      <td>3377.00</td>\n",
       "      <td>3302.710</td>\n",
       "      <td>3352.15</td>\n",
       "      <td>3620808.0</td>\n",
       "      <td>Sell</td>\n",
       "      <td>-0.871381</td>\n",
       "      <td>0.383333</td>\n",
       "      <td>-0.871381</td>\n",
       "      <td>0</td>\n",
       "      <td>3302.343333</td>\n",
       "      <td>6.461111</td>\n",
       "      <td>75.784024</td>\n",
       "      <td>6.182749</td>\n",
       "      <td>21.15</td>\n",
       "      <td>0.00</td>\n",
       "      <td>68.715084</td>\n",
       "      <td>3.397565</td>\n",
       "      <td>1.765331</td>\n",
       "      <td>0.587710</td>\n",
       "      <td>74.29</td>\n",
       "      <td>90.797807</td>\n",
       "      <td>1.922500</td>\n",
       "      <td>30.00</td>\n",
       "      <td>0.00</td>\n",
       "      <td>5.519249</td>\n",
       "      <td>17.554331</td>\n",
       "      <td>0.280408</td>\n",
       "    </tr>\n",
       "  </tbody>\n",
       "</table>\n",
       "<p>500 rows × 28 columns</p>\n",
       "</div>"
      ],
      "text/plain": [
       "               Open     High       Low    Close     Volume sentiment  \\\n",
       "AMZN                                                                   \n",
       "2019-02-13  1647.00  1656.38  1637.110  1640.00  3560321.0      Sell   \n",
       "2019-02-14  1624.50  1637.90  1606.060  1622.65  4120524.0      Sell   \n",
       "2019-02-15  1627.86  1628.91  1604.500  1607.95  4343893.0       Buy   \n",
       "2019-02-19  1601.00  1634.00  1600.560  1627.58  3681656.0      Sell   \n",
       "2019-02-20  1630.00  1634.93  1610.120  1622.10  3337589.0      Sell   \n",
       "...             ...      ...       ...      ...        ...       ...   \n",
       "2021-02-01  3242.36  3350.26  3235.025  3342.88  4160212.0       Buy   \n",
       "2021-02-02  3380.00  3427.74  3361.125  3380.00  6183716.0      Sell   \n",
       "2021-02-03  3425.01  3434.00  3308.620  3312.53  7088781.0       Buy   \n",
       "2021-02-04  3330.00  3347.00  3277.750  3331.00  3670661.0       Buy   \n",
       "2021-02-05  3319.00  3377.00  3302.710  3352.15  3620808.0      Sell   \n",
       "\n",
       "            next_day_close_percent  percent_increase  percent_increase_close  \\\n",
       "AMZN                                                                           \n",
       "2019-02-13               -1.057927         -0.128049               -0.757317   \n",
       "2019-02-14               -0.905925          0.757403                0.549102   \n",
       "2019-02-15                1.220809          2.901210                1.557884   \n",
       "2019-02-19               -0.336696          1.660133                0.541909   \n",
       "2019-02-20               -0.163985          2.003576                1.170705   \n",
       "...                            ...               ...                     ...   \n",
       "2021-02-01                1.110420          2.725793                1.110420   \n",
       "2021-02-02               -1.996154          1.597633               -0.823964   \n",
       "2021-02-03                0.557580          1.946247                1.196065   \n",
       "2021-02-04                0.634944          1.380967                0.634944   \n",
       "2021-02-05               -0.871381          0.383333               -0.871381   \n",
       "\n",
       "           four_percent          SMA   SMA_diff  Stochastic  Stochastic_diff  \\\n",
       "AMZN                                                                           \n",
       "2019-02-13            0  1625.578889  -8.747778   43.171235         1.173003   \n",
       "2019-02-14            0  1625.181111  -0.397778   32.944297       -10.226938   \n",
       "2019-02-15            0  1622.363333  -2.817778   24.279399        -8.664898   \n",
       "2019-02-19            0  1618.893333  -3.470000   35.850280        11.570881   \n",
       "2019-02-20            0  1616.875556  -2.017778   32.620100        -3.230180   \n",
       "...                 ...          ...        ...         ...              ...   \n",
       "2021-02-01            0  3278.001111  24.680000   92.439454        49.184929   \n",
       "2021-02-02            0  3290.958889  12.957778   85.645127        -6.794327   \n",
       "2021-02-03            0  3291.574444   0.615556   64.150164       -21.494964   \n",
       "2021-02-04            0  3295.882222   4.307778   69.601275         5.451111   \n",
       "2021-02-05            0  3302.343333   6.461111   75.784024         6.182749   \n",
       "\n",
       "            rsi_up_var  rsi_down_var        RSI   RSI_diff       ROC  \\\n",
       "AMZN                                                                   \n",
       "2019-02-13        1.99          0.00  48.393345  -1.396206 -4.580708   \n",
       "2019-02-14        0.00         17.35  44.862118  -3.531227 -0.220141   \n",
       "2019-02-15        0.00         14.70  46.661165   1.799047 -1.552675   \n",
       "2019-02-19       19.63          0.00  53.974244   7.313079 -1.882675   \n",
       "2019-02-20        0.00          5.48  43.152645 -10.821599 -1.107142   \n",
       "...                ...           ...        ...        ...       ...   \n",
       "2021-02-01      136.68          0.00  68.107886  16.021667  7.117497   \n",
       "2021-02-02       37.12          0.00  69.577435   1.469549  3.573595   \n",
       "2021-02-03        0.00         67.47  60.714286  -8.863149  0.167524   \n",
       "2021-02-04       18.47          0.00  65.317519   4.603233  1.177621   \n",
       "2021-02-05       21.15          0.00  68.715084   3.397565  1.765331   \n",
       "\n",
       "            ROC_diff      tr        ATR  ATR_diff  pos_dx  neg_dx         dx  \\\n",
       "AMZN                                                                           \n",
       "2019-02-13 -2.639890   19.27  47.920000 -0.443571    0.00   38.23  25.018348   \n",
       "2019-02-14  4.360567   33.94  48.305000  0.385000    0.00    0.00  41.299223   \n",
       "2019-02-15 -1.332534   24.41  46.014286 -2.290714    0.00    0.00  41.299223   \n",
       "2019-02-19 -0.330000   33.44  45.033571 -0.980714    5.09    0.00  42.575272   \n",
       "2019-02-20  0.775533   24.81  40.872143 -4.161429    0.00    9.56  22.878377   \n",
       "...              ...     ...        ...       ...     ...     ...        ...   \n",
       "2021-02-01  3.833290  144.06  81.959714  5.097143  113.27    0.00  32.956101   \n",
       "2021-02-02 -3.543902   84.86  84.011014  2.051300    0.00  126.10   7.195686   \n",
       "2021-02-03 -3.406072  125.38  88.029586  4.018571    6.26    0.00   0.867212   \n",
       "2021-02-04  1.010097   69.25  88.875307  0.845721    0.00    0.00   0.867212   \n",
       "2021-02-05  0.587710   74.29  90.797807  1.922500   30.00    0.00   5.519249   \n",
       "\n",
       "                  ADX  ADX_diff  \n",
       "AMZN                             \n",
       "2019-02-13  29.017135 -0.391278  \n",
       "2019-02-14  27.570711 -1.446424  \n",
       "2019-02-15  26.966062 -0.604649  \n",
       "2019-02-19  24.074783 -2.891279  \n",
       "2019-02-20  22.709063 -1.365721  \n",
       "...               ...       ...  \n",
       "2021-02-01  18.797755  0.513129  \n",
       "2021-02-02  17.470854 -1.326901  \n",
       "2021-02-03  17.325803 -0.145051  \n",
       "2021-02-04  17.273923 -0.051880  \n",
       "2021-02-05  17.554331  0.280408  \n",
       "\n",
       "[500 rows x 28 columns]"
      ]
     },
     "execution_count": 3,
     "metadata": {},
     "output_type": "execute_result"
    }
   ],
   "source": [
    "df = df.iloc[-500:]\n",
    "df"
   ]
  },
  {
   "cell_type": "markdown",
   "metadata": {},
   "source": [
    "## Train/Test Split"
   ]
  },
  {
   "cell_type": "code",
   "execution_count": 4,
   "metadata": {},
   "outputs": [],
   "source": [
    "y = df['next_day_close_percent']\n",
    "x = df[['SMA', 'SMA_diff', 'Stochastic', 'Stochastic_diff', 'RSI', 'RSI_diff', 'ROC', 'ROC_diff', 'ATR', 'ATR_diff', 'ADX', 'ADX_diff']]\n",
    "x = df[['SMA', 'Stochastic', 'RSI', 'ROC', 'ATR', 'ADX']]\n",
    "\n",
    "x_train, x_test, y_train, y_test = train_test_split(x, y, test_size = 0.2, random_state = 123)"
   ]
  },
  {
   "cell_type": "code",
   "execution_count": 5,
   "metadata": {},
   "outputs": [],
   "source": [
    "mm_scaler = MinMaxScaler()\n",
    "mm_scaler.fit(x_train)\n",
    "\n",
    "x_train = mm_scaler.transform(x_train)\n",
    "x_test = mm_scaler.transform(x_test)"
   ]
  },
  {
   "cell_type": "code",
   "execution_count": 6,
   "metadata": {},
   "outputs": [],
   "source": [
    "# scaler = StandardScaler()\n",
    "\n",
    "# scaled_x_train = scaler.fit_transform(x_train)\n",
    "# scaled_y_train = scaler.fit_transform(y_train)\n",
    "\n",
    "# scaled_x_test = scaler.fit_transform(x_test)\n",
    "# scaled_y_test = scaler.fit_transform(y_test)"
   ]
  },
  {
   "cell_type": "markdown",
   "metadata": {},
   "source": [
    "## Modeling"
   ]
  },
  {
   "cell_type": "markdown",
   "metadata": {},
   "source": [
    "### Function"
   ]
  },
  {
   "cell_type": "code",
   "execution_count": 7,
   "metadata": {},
   "outputs": [],
   "source": [
    "def rmse(model, xtrain, ytrain, xtest, ytest):\n",
    "    yhat_train = model.predict(xtrain)\n",
    "    rmse_train = np.sqrt(metrics.mean_squared_error(ytrain, yhat_train))\n",
    "\n",
    "    yhat_test = model.predict(xtest)\n",
    "    rmse_test = np.sqrt(metrics.mean_squared_error(ytest, yhat_test))\n",
    "\n",
    "    print('RMSE Train:', rmse_train)\n",
    "    print('RMSE Test:', rmse_test)"
   ]
  },
  {
   "cell_type": "markdown",
   "metadata": {},
   "source": [
    "### Decision Tree Regression"
   ]
  },
  {
   "cell_type": "code",
   "execution_count": 18,
   "metadata": {},
   "outputs": [
    {
     "name": "stdout",
     "output_type": "stream",
     "text": [
      "RMSE Train: 1.9931852551398375\n",
      "RMSE Test: 1.6035571605074477\n"
     ]
    }
   ],
   "source": [
    "dtr = DecisionTreeRegressor(criterion='mse',\n",
    "                            max_depth=2,\n",
    "                            max_features='log2',\n",
    "                            min_samples_leaf=3,\n",
    "                            min_samples_split=5)\n",
    "dtr.fit(x_train, y_train)\n",
    "\n",
    "rmse(dtr, x_train, y_train, x_test, y_test)"
   ]
  },
  {
   "cell_type": "markdown",
   "metadata": {},
   "source": [
    "### SVR"
   ]
  },
  {
   "cell_type": "code",
   "execution_count": 19,
   "metadata": {
    "scrolled": true
   },
   "outputs": [
    {
     "name": "stdout",
     "output_type": "stream",
     "text": [
      "RMSE Train: 2.034103183144371\n",
      "RMSE Test: 1.6226854725252058\n"
     ]
    }
   ],
   "source": [
    "svr = SVR(C=.001, degree=1, gamma=0.001, kernel='rbf')\n",
    "# svr.fit(scaled_x_train, y_train)\n",
    "svr.fit(x_train, y_train)\n",
    "# rmse(svr, scaled_x_train, y_train, scaled_x_test, y_test)\n",
    "rmse(svr, x_train, y_train, x_test, y_test)"
   ]
  },
  {
   "cell_type": "markdown",
   "metadata": {},
   "source": [
    "### KNR"
   ]
  },
  {
   "cell_type": "code",
   "execution_count": 20,
   "metadata": {},
   "outputs": [
    {
     "name": "stdout",
     "output_type": "stream",
     "text": [
      "RMSE Train: 0.0\n",
      "RMSE Test: 1.6109122303906156\n"
     ]
    }
   ],
   "source": [
    "knr = KNeighborsRegressor(algorithm='auto', metric='manhattan', n_neighbors=19, weights='distance')\n",
    "# knr.fit(scaled_x_train, y_train)\n",
    "# rmse(knr, scaled_x_train, y_train, scaled_x_test, y_test)\n",
    "\n",
    "knr.fit(x_train, y_train)\n",
    "rmse(knr, x_train, y_train, x_test, y_test)"
   ]
  },
  {
   "cell_type": "markdown",
   "metadata": {},
   "source": [
    "### Random Forest Regressor"
   ]
  },
  {
   "cell_type": "code",
   "execution_count": 13,
   "metadata": {
    "scrolled": true
   },
   "outputs": [
    {
     "name": "stdout",
     "output_type": "stream",
     "text": [
      "RMSE Train: 1.8457042672406263\n",
      "RMSE Test: 1.6235573843114346\n"
     ]
    }
   ],
   "source": [
    "rfr = RandomForestRegressor(criterion='mae', max_depth=30, max_features='sqrt', min_samples_leaf=10, min_samples_split=5, n_estimators=20)\n",
    "rfr.fit(x_train, y_train)\n",
    "rmse(rfr, x_train, y_train, x_test, y_test)"
   ]
  },
  {
   "cell_type": "markdown",
   "metadata": {},
   "source": [
    "### AdaBoost Regressor"
   ]
  },
  {
   "cell_type": "code",
   "execution_count": 14,
   "metadata": {},
   "outputs": [
    {
     "name": "stdout",
     "output_type": "stream",
     "text": [
      "RMSE Train: 1.8083236069738058\n",
      "RMSE Test: 1.6206420238838988\n"
     ]
    }
   ],
   "source": [
    "ada_reg = AdaBoostRegressor(learning_rate=.05, loss='square', n_estimators=100)\n",
    "ada_reg.fit(x_train, y_train)\n",
    "rmse(ada_reg, x_train, y_train, x_test, y_test)"
   ]
  },
  {
   "cell_type": "code",
   "execution_count": 15,
   "metadata": {},
   "outputs": [
    {
     "data": {
      "text/plain": [
       "0.20940925085472895"
      ]
     },
     "execution_count": 15,
     "metadata": {},
     "output_type": "execute_result"
    }
   ],
   "source": [
    "ada_reg.score(x_train, y_train)"
   ]
  },
  {
   "cell_type": "code",
   "execution_count": 16,
   "metadata": {
    "scrolled": false
   },
   "outputs": [
    {
     "data": {
      "text/plain": [
       "0.0016858455533186323"
      ]
     },
     "execution_count": 16,
     "metadata": {},
     "output_type": "execute_result"
    }
   ],
   "source": [
    "ada_reg.score(x_test, y_test)"
   ]
  },
  {
   "cell_type": "markdown",
   "metadata": {},
   "source": [
    "###  Gradient Boosting Regressor"
   ]
  },
  {
   "cell_type": "code",
   "execution_count": 17,
   "metadata": {},
   "outputs": [
    {
     "name": "stdout",
     "output_type": "stream",
     "text": [
      "RMSE Train: 1.9982113003746613\n",
      "RMSE Test: 1.6064425158019298\n"
     ]
    }
   ],
   "source": [
    "grad_boost_reg = GradientBoostingRegressor(criterion= 'mse', learning_rate= 0.001, loss= 'huber', n_estimators = 150)\n",
    "grad_boost_reg.fit(x_train, y_train)\n",
    "rmse(grad_boost_reg, x_train, y_train, x_test, y_test)"
   ]
  },
  {
   "cell_type": "markdown",
   "metadata": {},
   "source": [
    "### MLP Regressor"
   ]
  },
  {
   "cell_type": "code",
   "execution_count": 50,
   "metadata": {},
   "outputs": [
    {
     "name": "stdout",
     "output_type": "stream",
     "text": [
      "RMSE Train: 2.0310215095908437\n",
      "RMSE Test: 1.6299344067374673\n"
     ]
    }
   ],
   "source": [
    "nn = MLPRegressor(hidden_layer_sizes=(300,100,), activation='tanh', max_iter=1000, solver='adam')\n",
    "nn.fit(x_train, y_train)\n",
    "rmse(nn, x_train, y_train, x_test, y_test)"
   ]
  },
  {
   "cell_type": "code",
   "execution_count": null,
   "metadata": {},
   "outputs": [],
   "source": []
  },
  {
   "cell_type": "code",
   "execution_count": null,
   "metadata": {},
   "outputs": [],
   "source": []
  },
  {
   "cell_type": "code",
   "execution_count": null,
   "metadata": {},
   "outputs": [],
   "source": []
  },
  {
   "cell_type": "code",
   "execution_count": null,
   "metadata": {},
   "outputs": [],
   "source": []
  },
  {
   "cell_type": "markdown",
   "metadata": {},
   "source": [
    "### Test"
   ]
  },
  {
   "cell_type": "code",
   "execution_count": null,
   "metadata": {},
   "outputs": [],
   "source": [
    "a = SVR()"
   ]
  },
  {
   "cell_type": "code",
   "execution_count": null,
   "metadata": {
    "scrolled": false
   },
   "outputs": [],
   "source": [
    "y"
   ]
  },
  {
   "cell_type": "code",
   "execution_count": null,
   "metadata": {},
   "outputs": [],
   "source": []
  }
 ],
 "metadata": {
  "kernelspec": {
   "display_name": "Python 3",
   "language": "python",
   "name": "python3"
  },
  "language_info": {
   "codemirror_mode": {
    "name": "ipython",
    "version": 3
   },
   "file_extension": ".py",
   "mimetype": "text/x-python",
   "name": "python",
   "nbconvert_exporter": "python",
   "pygments_lexer": "ipython3",
   "version": "3.6.9"
  },
  "toc": {
   "base_numbering": 1,
   "nav_menu": {},
   "number_sections": true,
   "sideBar": true,
   "skip_h1_title": false,
   "title_cell": "Table of Contents",
   "title_sidebar": "Contents",
   "toc_cell": false,
   "toc_position": {
    "height": "calc(100% - 180px)",
    "left": "10px",
    "top": "150px",
    "width": "258px"
   },
   "toc_section_display": true,
   "toc_window_display": true
  }
 },
 "nbformat": 4,
 "nbformat_minor": 4
}
