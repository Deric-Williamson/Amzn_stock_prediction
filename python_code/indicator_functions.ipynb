{
 "cells": [
  {
   "cell_type": "code",
   "execution_count": 1,
   "metadata": {},
   "outputs": [],
   "source": [
    "import pandas as pd\n",
    "import numpy as np\n",
    "\n",
    "import matplotlib.pyplot as plt\n",
    "%matplotlib inline\n",
    "\n",
    "from IPython.display import display\n",
    "pd.set_option('display.max_columns', None)"
   ]
  },
  {
   "cell_type": "code",
   "execution_count": 2,
   "metadata": {},
   "outputs": [],
   "source": [
    "#loading dataset\n",
    "df = pd.read_csv('data\\AMZN.csv')\n",
    "\n",
    "#preprocessing\n",
    "df['Date'] = pd.to_datetime(df['Date'])\n",
    "df.set_index('Date', inplace=True)"
   ]
  },
  {
   "cell_type": "markdown",
   "metadata": {},
   "source": [
    "# General Functions"
   ]
  },
  {
   "cell_type": "markdown",
   "metadata": {},
   "source": [
    "## API Call"
   ]
  },
  {
   "cell_type": "code",
   "execution_count": 37,
   "metadata": {},
   "outputs": [],
   "source": [
    "def AV_daily_call(symbol, output_size='compact'):\n",
    "    # symbol = ticker\n",
    "    # output_size = 'compact'(last 100 days) or 'full'(full-length)\n",
    "    \n",
    "    function = 'TIME_SERIES_DAILY'\n",
    "    api_key = '1W0X0E2POGJ6T74Z'\n",
    "\n",
    "    url = 'https://www.alphavantage.co/query?function={}&symbol={}&outputsize={}&apikey={}'.format(\n",
    "                    function, symbol, output_size, api_key)\n",
    "\n",
    "    # grabs correct info into dataframe\n",
    "    response = requests.get(url)\n",
    "    response_dict = json.loads(response.text)\n",
    "    data = response_dict['Time Series (Daily)']\n",
    "    df = pd.DataFrame.from_dict(data)\n",
    "    \n",
    "    # Fixes dataframe into correct format\n",
    "    df = df.T\n",
    "    df = df.iloc[::-1]\n",
    "    \n",
    "    df = df.astype(float)\n",
    "    df.index = pd.to_datetime(df.index)\n",
    "    df.rename_axis(symbol, inplace=True)\n",
    "    \n",
    "    df.columns = (['Open', 'High', 'Low', 'Close', 'Volume'])\n",
    "    \n",
    "    return df"
   ]
  },
  {
   "cell_type": "markdown",
   "metadata": {},
   "source": [
    "## add row"
   ]
  },
  {
   "cell_type": "code",
   "execution_count": 3,
   "metadata": {},
   "outputs": [],
   "source": [
    "def add_row(df, Open, High, Low, Close):\n",
    "    index = len(df.index)\n",
    "    values = [Open, High, Low, Close]\n",
    "    \n",
    "    missing_values = len(df.columns) - 4\n",
    "    \n",
    "    for i in range(missing_values):\n",
    "        values.append(np.nan)\n",
    "    \n",
    "    df.loc[index] = values  "
   ]
  },
  {
   "cell_type": "code",
   "execution_count": null,
   "metadata": {},
   "outputs": [],
   "source": []
  },
  {
   "cell_type": "markdown",
   "metadata": {},
   "source": [
    "# Indicators"
   ]
  },
  {
   "cell_type": "markdown",
   "metadata": {},
   "source": [
    "## Simple Moving Average (SMA)"
   ]
  },
  {
   "cell_type": "code",
   "execution_count": 8,
   "metadata": {},
   "outputs": [],
   "source": [
    "def sma(df, i, n=9):\n",
    "    # df = dataframe, columns must include ['Open', 'High', 'Low', 'Close']\n",
    "    # i = dataframe index\n",
    "    # n = variable determines length of algorithm \n",
    "    \n",
    "    if 'SMA' not in df.columns:\n",
    "        df['SMA'] = np.nan\n",
    "        df['SMA_diff'] = np.nan\n",
    "        \n",
    "    if i in range(0,(n-1)):\n",
    "        df.iloc[i, df.columns.get_loc('SMA')] = np.nan\n",
    "    \n",
    "    sma = df.iloc[(i-(n-1)):i+1]['Close'].mean()\n",
    "    df.iloc[i, df.columns.get_loc('SMA')] = sma\n",
    "    \n",
    "    diff = sma - df.iloc[i-1]['SMA']\n",
    "    df.iloc[i, df.columns.get_loc('SMA_diff')] = diff"
   ]
  },
  {
   "cell_type": "markdown",
   "metadata": {},
   "source": [
    "## Stochastic Oscillator"
   ]
  },
  {
   "cell_type": "markdown",
   "metadata": {},
   "source": [
    "Stochastic = (C-L_n)/(H_n-L_n)*100   \n",
    ">C = The Most recent closing price  \n",
    ">L_n = The lowest price traded of the n previous trading sessions  \n",
    ">H_n = The highest price traded during the same n period  "
   ]
  },
  {
   "cell_type": "code",
   "execution_count": 2,
   "metadata": {},
   "outputs": [],
   "source": [
    "def stochastic(df, i, n=14):\n",
    "    # df = dataframe, columns must include ['Open', 'High', 'Low', 'Close']\n",
    "    # i = dataframe index\n",
    "    # n = variable determines length of algorithm \n",
    "    \n",
    "    \n",
    "    if 'Stochastic' not in df.columns:\n",
    "        df['Stochastic'] = np.nan\n",
    "        df['Stochastic_diff'] = np.nan\n",
    "        \n",
    "    if i in range(0, n-1):\n",
    "        df.iloc[i, df.columns.get_loc('Stochastic')] = np.nan\n",
    "        return \n",
    "        \n",
    "    C = df.iloc[i]['Close']\n",
    "    Lowest = min(list(df.iloc[i-(n-1): i+1]['Low']))\n",
    "    Highest = max(list(df.iloc[i-(n-1): i+1]['High']))\n",
    "        \n",
    "    value = ((C - Lowest) / (Highest - Lowest)) * 100\n",
    "        \n",
    "    df.iloc[i, df.columns.get_loc('Stochastic')] = value \n",
    "    \n",
    "    diff = value - df.iloc[i-1]['Stochastic']\n",
    "    df.iloc[i, df.columns.get_loc('Stochastic_diff')] = diff "
   ]
  },
  {
   "cell_type": "markdown",
   "metadata": {},
   "source": [
    "## Relative Strength Index(RSI)"
   ]
  },
  {
   "cell_type": "markdown",
   "metadata": {},
   "source": [
    ">RSI = 100 - (100/RS + 1)  \n",
    ">RS = Average Gain  / Average Loss  \n",
    ">Average Gain = Sum of Gains over the past 14 periods / 14  \n",
    ">Average Loss = Sum of Losses over the past 14 periods / 14  "
   ]
  },
  {
   "cell_type": "markdown",
   "metadata": {},
   "source": [
    ">>Note: Tradingview.com uses ema to calculate Average Gain and Loss, Values will differ"
   ]
  },
  {
   "cell_type": "markdown",
   "metadata": {},
   "source": [
    "### rsi variables"
   ]
  },
  {
   "cell_type": "code",
   "execution_count": 3,
   "metadata": {},
   "outputs": [],
   "source": [
    "def rsi_vars(df,i):\n",
    "    # df = dataframe, columns must include ['Open', 'High', 'Low', 'Close']\n",
    "    # i = dataframe index\n",
    "    \n",
    "    if 'rsi_up_var' not in df.columns:\n",
    "        df['rsi_up_var'] = np.nan\n",
    "        \n",
    "    if 'rsi_down_var' not in df.columns:\n",
    "        df['rsi_down_var'] = np.nan\n",
    "        \n",
    "    if i == 0:\n",
    "        return\n",
    "    \n",
    "    current_close = df.iloc[i]['Close']\n",
    "    previous_close = df.iloc[i-1]['Close']\n",
    "        \n",
    "    if current_close > previous_close:\n",
    "        df.iloc[i, df.columns.get_loc('rsi_up_var')] = current_close - previous_close\n",
    "        df.iloc[i, df.columns.get_loc('rsi_down_var')] = 0\n",
    "        \n",
    "    else:\n",
    "        df.iloc[i, df.columns.get_loc('rsi_up_var')] = 0\n",
    "        df.iloc[i, df.columns.get_loc('rsi_down_var')] = previous_close - current_close"
   ]
  },
  {
   "cell_type": "markdown",
   "metadata": {},
   "source": [
    "### rsi function"
   ]
  },
  {
   "cell_type": "code",
   "execution_count": 4,
   "metadata": {},
   "outputs": [],
   "source": [
    "def rsi(df, i, n=14):\n",
    "    # df = dataframe, columns must include ['Open', 'High', 'Low', 'Close']\n",
    "    # i = dataframe index\n",
    "    # n = variable determines length of algorithm \n",
    "    \n",
    "    rsi_vars(df,i)\n",
    "    \n",
    "    if 'RSI' not in df.columns:\n",
    "        df['RSI'] = np.nan\n",
    "        df['RSI_diff'] = np.nan\n",
    "        \n",
    "    if i > n-1:\n",
    "        avg_up_move = df['rsi_up_var'].iloc[i-(n-1):i+1].mean()\n",
    "        avg_down_move = df['rsi_down_var'].iloc[i-(n-1):i+1].mean()\n",
    "            \n",
    "        relative_strength = avg_up_move / avg_down_move\n",
    "        rsi = 100-(100/(1 + relative_strength))\n",
    "            \n",
    "        df.iloc[i, df.columns.get_loc('RSI')] = rsi\n",
    "        \n",
    "        diff = rsi - df.iloc[i-1]['RSI']\n",
    "        df.iloc[i, df.columns.get_loc('RSI_diff')] = diff \n",
    "    "
   ]
  },
  {
   "cell_type": "markdown",
   "metadata": {},
   "source": [
    "## Rate Of Change (ROC)"
   ]
  },
  {
   "cell_type": "markdown",
   "metadata": {},
   "source": [
    "ROC = ((Closing Price p - Closing Price p-n) / Closing Price p-n) * 100\n",
    "\n",
    ">Closing Price p = Closing price of most recent period  \n",
    ">Closing Price p-n = Closing price n periods before the most recent period"
   ]
  },
  {
   "cell_type": "code",
   "execution_count": 5,
   "metadata": {},
   "outputs": [],
   "source": [
    "def roc(df, i, n=9):\n",
    "    # df = dataframe, columns must include ['Open', 'High', 'Low', 'Close']\n",
    "    # i = dataframe index\n",
    "    # n = variable determines length of algorithm \n",
    "    \n",
    "    if 'ROC' not in df.columns:\n",
    "        df['ROC'] = np.nan\n",
    "        df['ROC_diff'] = np.nan\n",
    "        \n",
    "    if i in range(0, n):\n",
    "        return\n",
    "    \n",
    "    current_close = df.iloc[i]['Close']\n",
    "    n_close = df.iloc[i - n]['Close']\n",
    "        \n",
    "    roc = ((current_close - n_close)/n_close) * 100\n",
    "    \n",
    "    df.iloc[i, df.columns.get_loc('ROC')] = roc\n",
    "    \n",
    "    diff = roc - df.iloc[i-1]['ROC']\n",
    "    df.iloc[i, df.columns.get_loc('ROC_diff')] = diff "
   ]
  },
  {
   "cell_type": "markdown",
   "metadata": {},
   "source": [
    "## Average True Range (ATR)"
   ]
  },
  {
   "cell_type": "markdown",
   "metadata": {},
   "source": [
    "ATR = average TR from current to past n bars  \n",
    "> TR = Max((High-Low),   ABS(High - Previous Close),   ABS(Low - Previous Close))"
   ]
  },
  {
   "cell_type": "markdown",
   "metadata": {},
   "source": [
    "### true range"
   ]
  },
  {
   "cell_type": "code",
   "execution_count": 9,
   "metadata": {},
   "outputs": [],
   "source": [
    "def true_range(df,i):\n",
    "    # df = dataframe, columns must include ['Open', 'High', 'Low', 'Close']\n",
    "    # i = dataframe index\n",
    "    \n",
    "    if 'tr' not in df.columns:\n",
    "        df['tr'] = np.nan\n",
    "    \n",
    "    if i == 0:\n",
    "        return\n",
    "    \n",
    "    current_high = df.iloc[i]['High']\n",
    "    current_low = df.iloc[i]['Low']\n",
    "    pre_close = df.iloc[i-1]['Close']\n",
    "        \n",
    "    method_1 = abs(current_high - current_low)\n",
    "    method_2 = abs(current_high - pre_close)\n",
    "    method_3 = abs(current_low - pre_close)\n",
    "        \n",
    "    TR = max(method_1, method_2, method_3)\n",
    "    \n",
    "    df.iloc[i, df.columns.get_loc('tr')] = TR"
   ]
  },
  {
   "cell_type": "markdown",
   "metadata": {},
   "source": [
    "### atr function"
   ]
  },
  {
   "cell_type": "code",
   "execution_count": 6,
   "metadata": {},
   "outputs": [],
   "source": [
    "def atr(df,i,n=14):\n",
    "    # df = dataframe, columns must include ['Open', 'High', 'Low', 'Close']\n",
    "    # i = dataframe index\n",
    "    # n = variable determines length of algorithm \n",
    "    \n",
    "    true_range(df,i)\n",
    "    \n",
    "    if 'ATR' not in df.columns:\n",
    "        df['ATR'] = np.nan\n",
    "        df['ATR_diff'] = np.nan\n",
    "    \n",
    "    if i > n-1:\n",
    "        ATR = df.iloc[i-(n-1) : i+1]['tr'].mean()\n",
    "        \n",
    "        df.iloc[i, df.columns.get_loc('ATR')] = ATR\n",
    "        \n",
    "        diff = ATR - df.iloc[i-1]['ATR']\n",
    "        df.iloc[i, df.columns.get_loc('ATR_diff')] = diff "
   ]
  },
  {
   "cell_type": "markdown",
   "metadata": {},
   "source": [
    "## Average Directional Index (ADX)"
   ]
  },
  {
   "cell_type": "markdown",
   "metadata": {},
   "source": [
    "ADX = avg((i) DX bars)  \n",
    "DX = (abs(positive DMI - negative DMI) / (positive DMI + negative DMI)) * 100\n",
    "\n",
    "> i = bar count  \n",
    "\n",
    "> positive DMI = avg(positive DX)  \n",
    "> negative DMI = avg(negative DX)  \n",
    "\n",
    "> positive DX = ((if high diff > low diff) and (if high diff is > 0)) = high diff, (else) = 0  \n",
    "> negative DX = ((if low diff > high diff) and (if low diff is > 0)) = low diff, (else) = 0  \n",
    "\n",
    "> high diff = current high - previous high  \n",
    "> low diff = current low - previous low"
   ]
  },
  {
   "cell_type": "markdown",
   "metadata": {},
   "source": [
    ">>Note: Trading view uses EMA over simple moving averages, values may differ."
   ]
  },
  {
   "cell_type": "markdown",
   "metadata": {},
   "source": [
    "### adx variables"
   ]
  },
  {
   "cell_type": "code",
   "execution_count": 11,
   "metadata": {},
   "outputs": [],
   "source": [
    "def adx_vars(df,i):\n",
    "    # df = dataframe, columns must include ['Open', 'High', 'Low', 'Close']\n",
    "    # i = dataframe index\n",
    "\n",
    "    if 'pos_dx' not in df.columns:\n",
    "        df['pos_dx'] = np.nan\n",
    "    \n",
    "    if 'neg_dx' not in df.columns:\n",
    "        df['neg_dx'] = np.nan\n",
    "        \n",
    "    if i == 0:\n",
    "        return\n",
    "    \n",
    "    #differencing the highs and lows\n",
    "    current_high = df.iloc[i]['High']\n",
    "    previous_high = df.iloc[i-1]['High']\n",
    "    \n",
    "    current_low = df.iloc[i]['Low']\n",
    "    previous_low = df.iloc[i-1]['Low']\n",
    "    \n",
    "    high_diff = current_high - previous_high\n",
    "    low_diff = current_low - previous_low\n",
    "    \n",
    "    #calculate positive and negative DX\n",
    "    if (high_diff > low_diff) and (high_diff > 0):\n",
    "        \n",
    "        df.iloc[i, df.columns.get_loc('pos_dx')] = high_diff\n",
    "        df.iloc[i, df.columns.get_loc('neg_dx')] = 0\n",
    "        \n",
    "    elif(low_diff > high_diff) and (low_diff > 0):\n",
    "      \n",
    "        df.iloc[i, df.columns.get_loc('pos_dx')] = 0\n",
    "        df.iloc[i, df.columns.get_loc('neg_dx')] = low_diff\n",
    "        \n",
    "    else:\n",
    "        df.iloc[i, df.columns.get_loc('pos_dx')] = 0\n",
    "        df.iloc[i, df.columns.get_loc('neg_dx')] = 0"
   ]
  },
  {
   "cell_type": "markdown",
   "metadata": {},
   "source": [
    "### adx function"
   ]
  },
  {
   "cell_type": "code",
   "execution_count": 7,
   "metadata": {},
   "outputs": [],
   "source": [
    "def adx(df,i,n=14):\n",
    "    # df = dataframe, columns must include ['Open', 'High', 'Low', 'Close']\n",
    "    # i = dataframe index\n",
    "    # n = variable determines length of algorithm\n",
    "    \n",
    "    adx_vars(df,i)\n",
    "    \n",
    "    if 'ATR' not in df.columns:\n",
    "        atr(df,i,n)\n",
    "        \n",
    "    if 'dx' not in df.columns:\n",
    "        df['dx'] = np.nan\n",
    "    \n",
    "    if 'ADX' not in df.columns:\n",
    "        df['ADX'] = np.nan\n",
    "        df['ADX_diff'] = np.nan\n",
    "    \n",
    "    if i > n-1:\n",
    "        # calculating smooth pos, neg dx\n",
    "        avg_pos_dx = df.iloc[i-(n-1):i+1]['pos_dx'].mean()\n",
    "        avg_neg_dx = df.iloc[i-(n-1):i+1]['neg_dx'].mean()\n",
    "        \n",
    "        #calculating pos, neg DMI\n",
    "        ATR = df.iloc[i]['ATR']\n",
    "        pos_dmi = (avg_pos_dx / ATR) * 100\n",
    "        neg_dmi = (avg_neg_dx / ATR) * 100\n",
    "        \n",
    "        #calculating direction index (dx)\n",
    "        dx = (abs(pos_dmi - neg_dmi)/ (pos_dmi + neg_dmi))*100\n",
    "        df.iloc[i, df.columns.get_loc('dx')] = dx\n",
    "        \n",
    "        if i > n*2-2:\n",
    "            adx = df.iloc[i-13:i+1]['dx'].mean()\n",
    "            df.iloc[i, df.columns.get_loc('ADX')] = adx \n",
    "            \n",
    "            diff = adx - df.iloc[i-1]['ADX']\n",
    "            df.iloc[i, df.columns.get_loc('ADX_diff')] = diff "
   ]
  },
  {
   "cell_type": "markdown",
   "metadata": {},
   "source": [
    "# Test"
   ]
  },
  {
   "cell_type": "code",
   "execution_count": 30,
   "metadata": {},
   "outputs": [],
   "source": [
    "for i in range(len(df)):\n",
    "    sma(df, i)\n",
    "    stochastic(df, i)\n",
    "    rsi(df,i)\n",
    "    roc(df,i)\n",
    "    atr(df,i)\n",
    "    adx(df,i)"
   ]
  },
  {
   "cell_type": "code",
   "execution_count": 31,
   "metadata": {
    "scrolled": false
   },
   "outputs": [
    {
     "data": {
      "text/html": [
       "<div>\n",
       "<style scoped>\n",
       "    .dataframe tbody tr th:only-of-type {\n",
       "        vertical-align: middle;\n",
       "    }\n",
       "\n",
       "    .dataframe tbody tr th {\n",
       "        vertical-align: top;\n",
       "    }\n",
       "\n",
       "    .dataframe thead th {\n",
       "        text-align: right;\n",
       "    }\n",
       "</style>\n",
       "<table border=\"1\" class=\"dataframe\">\n",
       "  <thead>\n",
       "    <tr style=\"text-align: right;\">\n",
       "      <th></th>\n",
       "      <th>Open</th>\n",
       "      <th>High</th>\n",
       "      <th>Low</th>\n",
       "      <th>Close</th>\n",
       "      <th>SMA</th>\n",
       "      <th>Stochastic</th>\n",
       "      <th>rsi_up_var</th>\n",
       "      <th>rsi_down_var</th>\n",
       "      <th>RSI</th>\n",
       "      <th>ROC</th>\n",
       "      <th>tr</th>\n",
       "      <th>ATR</th>\n",
       "      <th>pos_dx</th>\n",
       "      <th>neg_dx</th>\n",
       "      <th>dx</th>\n",
       "      <th>ADX</th>\n",
       "    </tr>\n",
       "    <tr>\n",
       "      <th>Date</th>\n",
       "      <th></th>\n",
       "      <th></th>\n",
       "      <th></th>\n",
       "      <th></th>\n",
       "      <th></th>\n",
       "      <th></th>\n",
       "      <th></th>\n",
       "      <th></th>\n",
       "      <th></th>\n",
       "      <th></th>\n",
       "      <th></th>\n",
       "      <th></th>\n",
       "      <th></th>\n",
       "      <th></th>\n",
       "      <th></th>\n",
       "      <th></th>\n",
       "    </tr>\n",
       "  </thead>\n",
       "  <tbody>\n",
       "    <tr>\n",
       "      <th>2021-01-20</th>\n",
       "      <td>3181.989990</td>\n",
       "      <td>3279.800049</td>\n",
       "      <td>3175.000000</td>\n",
       "      <td>3263.379883</td>\n",
       "      <td>3151.294407</td>\n",
       "      <td>69.261935</td>\n",
       "      <td>142.619873</td>\n",
       "      <td>0.000000</td>\n",
       "      <td>45.367025</td>\n",
       "      <td>3.982947</td>\n",
       "      <td>159.040039</td>\n",
       "      <td>71.951433</td>\n",
       "      <td>134.800049</td>\n",
       "      <td>0.000000</td>\n",
       "      <td>60.093352</td>\n",
       "      <td>20.663963</td>\n",
       "    </tr>\n",
       "    <tr>\n",
       "      <th>2021-01-21</th>\n",
       "      <td>3293.000000</td>\n",
       "      <td>3348.550049</td>\n",
       "      <td>3289.570068</td>\n",
       "      <td>3306.989990</td>\n",
       "      <td>3167.386637</td>\n",
       "      <td>84.170615</td>\n",
       "      <td>43.610107</td>\n",
       "      <td>0.000000</td>\n",
       "      <td>51.651295</td>\n",
       "      <td>4.580100</td>\n",
       "      <td>85.170166</td>\n",
       "      <td>73.775722</td>\n",
       "      <td>0.000000</td>\n",
       "      <td>114.570068</td>\n",
       "      <td>7.433701</td>\n",
       "      <td>20.475003</td>\n",
       "    </tr>\n",
       "    <tr>\n",
       "      <th>2021-01-22</th>\n",
       "      <td>3304.310059</td>\n",
       "      <td>3321.909912</td>\n",
       "      <td>3283.159912</td>\n",
       "      <td>3292.229980</td>\n",
       "      <td>3179.556641</td>\n",
       "      <td>78.548826</td>\n",
       "      <td>0.000000</td>\n",
       "      <td>14.760010</td>\n",
       "      <td>52.819762</td>\n",
       "      <td>3.441419</td>\n",
       "      <td>38.750000</td>\n",
       "      <td>73.354283</td>\n",
       "      <td>0.000000</td>\n",
       "      <td>0.000000</td>\n",
       "      <td>7.433701</td>\n",
       "      <td>20.286043</td>\n",
       "    </tr>\n",
       "    <tr>\n",
       "      <th>2021-01-25</th>\n",
       "      <td>3328.500000</td>\n",
       "      <td>3363.889893</td>\n",
       "      <td>3243.149902</td>\n",
       "      <td>3294.000000</td>\n",
       "      <td>3199.533312</td>\n",
       "      <td>74.849790</td>\n",
       "      <td>1.770020</td>\n",
       "      <td>0.000000</td>\n",
       "      <td>59.631159</td>\n",
       "      <td>5.773215</td>\n",
       "      <td>120.739991</td>\n",
       "      <td>72.837141</td>\n",
       "      <td>41.979981</td>\n",
       "      <td>0.000000</td>\n",
       "      <td>17.488112</td>\n",
       "      <td>20.815255</td>\n",
       "    </tr>\n",
       "    <tr>\n",
       "      <th>2021-01-26</th>\n",
       "      <td>3296.360107</td>\n",
       "      <td>3338.000000</td>\n",
       "      <td>3282.870117</td>\n",
       "      <td>3326.129883</td>\n",
       "      <td>3222.344401</td>\n",
       "      <td>86.411881</td>\n",
       "      <td>32.129883</td>\n",
       "      <td>0.000000</td>\n",
       "      <td>59.649239</td>\n",
       "      <td>6.578372</td>\n",
       "      <td>55.129883</td>\n",
       "      <td>72.609288</td>\n",
       "      <td>0.000000</td>\n",
       "      <td>39.720215</td>\n",
       "      <td>12.071382</td>\n",
       "      <td>20.709853</td>\n",
       "    </tr>\n",
       "    <tr>\n",
       "      <th>2021-01-27</th>\n",
       "      <td>3341.489990</td>\n",
       "      <td>3346.520020</td>\n",
       "      <td>3207.080078</td>\n",
       "      <td>3232.580078</td>\n",
       "      <td>3229.754422</td>\n",
       "      <td>52.747538</td>\n",
       "      <td>0.000000</td>\n",
       "      <td>93.549805</td>\n",
       "      <td>58.247554</td>\n",
       "      <td>2.106523</td>\n",
       "      <td>139.439942</td>\n",
       "      <td>76.329991</td>\n",
       "      <td>8.520020</td>\n",
       "      <td>0.000000</td>\n",
       "      <td>13.882286</td>\n",
       "      <td>20.809390</td>\n",
       "    </tr>\n",
       "    <tr>\n",
       "      <th>2021-01-28</th>\n",
       "      <td>3235.040039</td>\n",
       "      <td>3301.679932</td>\n",
       "      <td>3228.689941</td>\n",
       "      <td>3237.620117</td>\n",
       "      <td>3241.993327</td>\n",
       "      <td>54.561220</td>\n",
       "      <td>5.040039</td>\n",
       "      <td>0.000000</td>\n",
       "      <td>56.830961</td>\n",
       "      <td>3.522021</td>\n",
       "      <td>72.989991</td>\n",
       "      <td>76.532122</td>\n",
       "      <td>0.000000</td>\n",
       "      <td>21.609863</td>\n",
       "      <td>14.499558</td>\n",
       "      <td>19.089216</td>\n",
       "    </tr>\n",
       "    <tr>\n",
       "      <th>2021-01-29</th>\n",
       "      <td>3230.000000</td>\n",
       "      <td>3236.989990</td>\n",
       "      <td>3184.550049</td>\n",
       "      <td>3206.199951</td>\n",
       "      <td>3253.321099</td>\n",
       "      <td>43.254524</td>\n",
       "      <td>0.000000</td>\n",
       "      <td>31.420166</td>\n",
       "      <td>52.086220</td>\n",
       "      <td>3.284206</td>\n",
       "      <td>53.070068</td>\n",
       "      <td>76.862845</td>\n",
       "      <td>0.000000</td>\n",
       "      <td>0.000000</td>\n",
       "      <td>14.499558</td>\n",
       "      <td>18.284019</td>\n",
       "    </tr>\n",
       "    <tr>\n",
       "      <th>2021-02-01</th>\n",
       "      <td>3242.360107</td>\n",
       "      <td>3350.260010</td>\n",
       "      <td>3235.030029</td>\n",
       "      <td>3342.879883</td>\n",
       "      <td>3278.001085</td>\n",
       "      <td>92.439448</td>\n",
       "      <td>136.679932</td>\n",
       "      <td>0.000000</td>\n",
       "      <td>68.107889</td>\n",
       "      <td>7.117493</td>\n",
       "      <td>144.060059</td>\n",
       "      <td>81.959996</td>\n",
       "      <td>113.270020</td>\n",
       "      <td>0.000000</td>\n",
       "      <td>32.955970</td>\n",
       "      <td>18.797137</td>\n",
       "    </tr>\n",
       "    <tr>\n",
       "      <th>2021-02-02</th>\n",
       "      <td>3380.000000</td>\n",
       "      <td>3427.739990</td>\n",
       "      <td>3361.129883</td>\n",
       "      <td>3380.000000</td>\n",
       "      <td>3290.958876</td>\n",
       "      <td>85.645133</td>\n",
       "      <td>37.120117</td>\n",
       "      <td>0.000000</td>\n",
       "      <td>69.577439</td>\n",
       "      <td>3.573599</td>\n",
       "      <td>84.860107</td>\n",
       "      <td>84.011440</td>\n",
       "      <td>0.000000</td>\n",
       "      <td>126.099854</td>\n",
       "      <td>7.195439</td>\n",
       "      <td>17.470217</td>\n",
       "    </tr>\n",
       "  </tbody>\n",
       "</table>\n",
       "</div>"
      ],
      "text/plain": [
       "                   Open         High          Low        Close          SMA  \\\n",
       "Date                                                                          \n",
       "2021-01-20  3181.989990  3279.800049  3175.000000  3263.379883  3151.294407   \n",
       "2021-01-21  3293.000000  3348.550049  3289.570068  3306.989990  3167.386637   \n",
       "2021-01-22  3304.310059  3321.909912  3283.159912  3292.229980  3179.556641   \n",
       "2021-01-25  3328.500000  3363.889893  3243.149902  3294.000000  3199.533312   \n",
       "2021-01-26  3296.360107  3338.000000  3282.870117  3326.129883  3222.344401   \n",
       "2021-01-27  3341.489990  3346.520020  3207.080078  3232.580078  3229.754422   \n",
       "2021-01-28  3235.040039  3301.679932  3228.689941  3237.620117  3241.993327   \n",
       "2021-01-29  3230.000000  3236.989990  3184.550049  3206.199951  3253.321099   \n",
       "2021-02-01  3242.360107  3350.260010  3235.030029  3342.879883  3278.001085   \n",
       "2021-02-02  3380.000000  3427.739990  3361.129883  3380.000000  3290.958876   \n",
       "\n",
       "            Stochastic  rsi_up_var  rsi_down_var        RSI       ROC  \\\n",
       "Date                                                                    \n",
       "2021-01-20   69.261935  142.619873      0.000000  45.367025  3.982947   \n",
       "2021-01-21   84.170615   43.610107      0.000000  51.651295  4.580100   \n",
       "2021-01-22   78.548826    0.000000     14.760010  52.819762  3.441419   \n",
       "2021-01-25   74.849790    1.770020      0.000000  59.631159  5.773215   \n",
       "2021-01-26   86.411881   32.129883      0.000000  59.649239  6.578372   \n",
       "2021-01-27   52.747538    0.000000     93.549805  58.247554  2.106523   \n",
       "2021-01-28   54.561220    5.040039      0.000000  56.830961  3.522021   \n",
       "2021-01-29   43.254524    0.000000     31.420166  52.086220  3.284206   \n",
       "2021-02-01   92.439448  136.679932      0.000000  68.107889  7.117493   \n",
       "2021-02-02   85.645133   37.120117      0.000000  69.577439  3.573599   \n",
       "\n",
       "                    tr        ATR      pos_dx      neg_dx         dx  \\\n",
       "Date                                                                   \n",
       "2021-01-20  159.040039  71.951433  134.800049    0.000000  60.093352   \n",
       "2021-01-21   85.170166  73.775722    0.000000  114.570068   7.433701   \n",
       "2021-01-22   38.750000  73.354283    0.000000    0.000000   7.433701   \n",
       "2021-01-25  120.739991  72.837141   41.979981    0.000000  17.488112   \n",
       "2021-01-26   55.129883  72.609288    0.000000   39.720215  12.071382   \n",
       "2021-01-27  139.439942  76.329991    8.520020    0.000000  13.882286   \n",
       "2021-01-28   72.989991  76.532122    0.000000   21.609863  14.499558   \n",
       "2021-01-29   53.070068  76.862845    0.000000    0.000000  14.499558   \n",
       "2021-02-01  144.060059  81.959996  113.270020    0.000000  32.955970   \n",
       "2021-02-02   84.860107  84.011440    0.000000  126.099854   7.195439   \n",
       "\n",
       "                  ADX  \n",
       "Date                   \n",
       "2021-01-20  20.663963  \n",
       "2021-01-21  20.475003  \n",
       "2021-01-22  20.286043  \n",
       "2021-01-25  20.815255  \n",
       "2021-01-26  20.709853  \n",
       "2021-01-27  20.809390  \n",
       "2021-01-28  19.089216  \n",
       "2021-01-29  18.284019  \n",
       "2021-02-01  18.797137  \n",
       "2021-02-02  17.470217  "
      ]
     },
     "execution_count": 31,
     "metadata": {},
     "output_type": "execute_result"
    }
   ],
   "source": [
    "df.tail(10)"
   ]
  },
  {
   "cell_type": "markdown",
   "metadata": {},
   "source": [
    "### add_row Test"
   ]
  },
  {
   "cell_type": "code",
   "execution_count": 15,
   "metadata": {},
   "outputs": [],
   "source": [
    "o = 1111\n",
    "h = 2222\n",
    "l = 3333\n",
    "c = 4444\n",
    "\n",
    "# add_row(df,o,h,l,c)\n",
    "\n",
    "# i = len(df)-1\n",
    "\n",
    "# sma(df, i)\n",
    "\n",
    "# df"
   ]
  },
  {
   "cell_type": "code",
   "execution_count": 16,
   "metadata": {},
   "outputs": [
    {
     "data": {
      "text/plain": [
       "1"
      ]
     },
     "execution_count": 16,
     "metadata": {},
     "output_type": "execute_result"
    }
   ],
   "source": [
    "min([1,2,34])"
   ]
  },
  {
   "cell_type": "code",
   "execution_count": null,
   "metadata": {},
   "outputs": [],
   "source": []
  },
  {
   "cell_type": "code",
   "execution_count": null,
   "metadata": {},
   "outputs": [],
   "source": []
  }
 ],
 "metadata": {
  "kernelspec": {
   "display_name": "Python 3",
   "language": "python",
   "name": "python3"
  },
  "language_info": {
   "codemirror_mode": {
    "name": "ipython",
    "version": 3
   },
   "file_extension": ".py",
   "mimetype": "text/x-python",
   "name": "python",
   "nbconvert_exporter": "python",
   "pygments_lexer": "ipython3",
   "version": "3.6.9"
  },
  "toc": {
   "base_numbering": 1,
   "nav_menu": {},
   "number_sections": true,
   "sideBar": true,
   "skip_h1_title": false,
   "title_cell": "Table of Contents",
   "title_sidebar": "Contents",
   "toc_cell": false,
   "toc_position": {
    "height": "calc(100% - 180px)",
    "left": "10px",
    "top": "150px",
    "width": "346px"
   },
   "toc_section_display": true,
   "toc_window_display": true
  }
 },
 "nbformat": 4,
 "nbformat_minor": 4
}
