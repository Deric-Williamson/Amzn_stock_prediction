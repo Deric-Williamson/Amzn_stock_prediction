{
 "cells": [
  {
   "cell_type": "code",
   "execution_count": 1,
   "metadata": {},
   "outputs": [],
   "source": [
    "import pandas as pd\n",
    "import numpy as np\n",
    "\n",
    "import matplotlib.pyplot as plt\n",
    "%matplotlib inline\n",
    "\n",
    "from IPython.display import display\n",
    "pd.set_option('display.max_columns', None)"
   ]
  },
  {
   "cell_type": "markdown",
   "metadata": {},
   "source": [
    "## Simple Moving Average (SMA)"
   ]
  },
  {
   "cell_type": "code",
   "execution_count": 4,
   "metadata": {},
   "outputs": [],
   "source": [
    "def sma(df, i, n=9):\n",
    "    # df = dataframe, columns must include ['Open', 'High', 'Low', 'Close']\n",
    "    # i = dataframe index\n",
    "    # n = variable determines length of algorithm \n",
    "    \n",
    "    if 'SMA' not in df.columns:\n",
    "        df['SMA'] = np.nan\n",
    "        df['SMA_diff'] = np.nan\n",
    "        \n",
    "    if i in range(0,(n-1)):\n",
    "        df.iloc[i, df.columns.get_loc('SMA')] = np.nan\n",
    "    \n",
    "    sma = df.iloc[(i-(n-1)):i+1]['Close'].mean()\n",
    "    df.iloc[i, df.columns.get_loc('SMA')] = sma\n",
    "    \n",
    "    diff = sma - df.iloc[i-1]['SMA']\n",
    "    df.iloc[i, df.columns.get_loc('SMA_diff')] = diff"
   ]
  },
  {
   "cell_type": "markdown",
   "metadata": {},
   "source": [
    "## Stochastic Oscillator"
   ]
  },
  {
   "cell_type": "markdown",
   "metadata": {},
   "source": [
    "Stochastic = (C-L_n)/(H_n-L_n)*100   \n",
    ">C = The Most recent closing price  \n",
    ">L_n = The lowest price traded of the n previous trading sessions  \n",
    ">H_n = The highest price traded during the same n period  "
   ]
  },
  {
   "cell_type": "code",
   "execution_count": 5,
   "metadata": {},
   "outputs": [],
   "source": [
    "def stochastic(df, i, n=14):\n",
    "    # df = dataframe, columns must include ['Open', 'High', 'Low', 'Close']\n",
    "    # i = dataframe index\n",
    "    # n = variable determines length of algorithm \n",
    "    \n",
    "    \n",
    "    if 'Stochastic' not in df.columns:\n",
    "        df['Stochastic'] = np.nan\n",
    "        df['Stochastic_diff'] = np.nan\n",
    "        \n",
    "    if i in range(0, n-1):\n",
    "        df.iloc[i, df.columns.get_loc('Stochastic')] = np.nan\n",
    "        return \n",
    "        \n",
    "    C = df.iloc[i]['Close']\n",
    "    Lowest = min(list(df.iloc[i-(n-1): i+1]['Low']))\n",
    "    Highest = max(list(df.iloc[i-(n-1): i+1]['High']))\n",
    "        \n",
    "    value = ((C - Lowest) / (Highest - Lowest)) * 100\n",
    "        \n",
    "    df.iloc[i, df.columns.get_loc('Stochastic')] = value \n",
    "    \n",
    "    diff = value - df.iloc[i-1]['Stochastic']\n",
    "    df.iloc[i, df.columns.get_loc('Stochastic_diff')] = diff "
   ]
  },
  {
   "cell_type": "markdown",
   "metadata": {},
   "source": [
    "## Relative Strength Index(RSI)"
   ]
  },
  {
   "cell_type": "markdown",
   "metadata": {},
   "source": [
    ">RSI = 100 - (100/RS + 1)  \n",
    ">RS = Average Gain  / Average Loss  \n",
    ">Average Gain = Sum of Gains over the past 14 periods / 14  \n",
    ">Average Loss = Sum of Losses over the past 14 periods / 14  "
   ]
  },
  {
   "cell_type": "markdown",
   "metadata": {},
   "source": [
    ">>Note: Tradingview.com uses ema to calculate Average Gain and Loss, Values will differ"
   ]
  },
  {
   "cell_type": "markdown",
   "metadata": {},
   "source": [
    "### rsi variables"
   ]
  },
  {
   "cell_type": "code",
   "execution_count": 6,
   "metadata": {},
   "outputs": [],
   "source": [
    "def rsi_vars(df,i):\n",
    "    # df = dataframe, columns must include ['Open', 'High', 'Low', 'Close']\n",
    "    # i = dataframe index\n",
    "    \n",
    "    if 'rsi_up_var' not in df.columns:\n",
    "        df['rsi_up_var'] = np.nan\n",
    "        \n",
    "    if 'rsi_down_var' not in df.columns:\n",
    "        df['rsi_down_var'] = np.nan\n",
    "        \n",
    "    if i == 0:\n",
    "        return\n",
    "    \n",
    "    current_close = df.iloc[i]['Close']\n",
    "    previous_close = df.iloc[i-1]['Close']\n",
    "        \n",
    "    if current_close > previous_close:\n",
    "        df.iloc[i, df.columns.get_loc('rsi_up_var')] = current_close - previous_close\n",
    "        df.iloc[i, df.columns.get_loc('rsi_down_var')] = 0\n",
    "        \n",
    "    else:\n",
    "        df.iloc[i, df.columns.get_loc('rsi_up_var')] = 0\n",
    "        df.iloc[i, df.columns.get_loc('rsi_down_var')] = previous_close - current_close"
   ]
  },
  {
   "cell_type": "markdown",
   "metadata": {},
   "source": [
    "### rsi function"
   ]
  },
  {
   "cell_type": "code",
   "execution_count": 7,
   "metadata": {},
   "outputs": [],
   "source": [
    "def rsi(df, i, n=14):\n",
    "    # df = dataframe, columns must include ['Open', 'High', 'Low', 'Close']\n",
    "    # i = dataframe index\n",
    "    # n = variable determines length of algorithm \n",
    "    \n",
    "    rsi_vars(df,i)\n",
    "    \n",
    "    if 'RSI' not in df.columns:\n",
    "        df['RSI'] = np.nan\n",
    "        df['RSI_diff'] = np.nan\n",
    "        \n",
    "    if i > n-1:\n",
    "        avg_up_move = df['rsi_up_var'].iloc[i-(n-1):i+1].mean()\n",
    "        avg_down_move = df['rsi_down_var'].iloc[i-(n-1):i+1].mean()\n",
    "            \n",
    "        relative_strength = avg_up_move / avg_down_move\n",
    "        rsi = 100-(100/(1 + relative_strength))\n",
    "            \n",
    "        df.iloc[i, df.columns.get_loc('RSI')] = rsi\n",
    "        \n",
    "        diff = rsi - df.iloc[i-1]['RSI']\n",
    "        df.iloc[i, df.columns.get_loc('RSI_diff')] = diff \n",
    "    "
   ]
  },
  {
   "cell_type": "markdown",
   "metadata": {},
   "source": [
    "## Rate Of Change (ROC)"
   ]
  },
  {
   "cell_type": "markdown",
   "metadata": {},
   "source": [
    "ROC = ((Closing Price p - Closing Price p-n) / Closing Price p-n) * 100\n",
    "\n",
    ">Closing Price p = Closing price of most recent period  \n",
    ">Closing Price p-n = Closing price n periods before the most recent period"
   ]
  },
  {
   "cell_type": "code",
   "execution_count": 8,
   "metadata": {},
   "outputs": [],
   "source": [
    "def roc(df, i, n=9):\n",
    "    # df = dataframe, columns must include ['Open', 'High', 'Low', 'Close']\n",
    "    # i = dataframe index\n",
    "    # n = variable determines length of algorithm \n",
    "    \n",
    "    if 'ROC' not in df.columns:\n",
    "        df['ROC'] = np.nan\n",
    "        df['ROC_diff'] = np.nan\n",
    "        \n",
    "    if i in range(0, n):\n",
    "        return\n",
    "    \n",
    "    current_close = df.iloc[i]['Close']\n",
    "    n_close = df.iloc[i - n]['Close']\n",
    "        \n",
    "    roc = ((current_close - n_close)/n_close) * 100\n",
    "    \n",
    "    df.iloc[i, df.columns.get_loc('ROC')] = roc\n",
    "    \n",
    "    diff = roc - df.iloc[i-1]['ROC']\n",
    "    df.iloc[i, df.columns.get_loc('ROC_diff')] = diff "
   ]
  },
  {
   "cell_type": "markdown",
   "metadata": {},
   "source": [
    "## Average True Range (ATR)"
   ]
  },
  {
   "cell_type": "markdown",
   "metadata": {},
   "source": [
    "ATR = average TR from current to past n bars  \n",
    "> TR = Max((High-Low),   ABS(High - Previous Close),   ABS(Low - Previous Close))"
   ]
  },
  {
   "cell_type": "markdown",
   "metadata": {},
   "source": [
    "### true range"
   ]
  },
  {
   "cell_type": "code",
   "execution_count": 9,
   "metadata": {},
   "outputs": [],
   "source": [
    "def true_range(df,i):\n",
    "    # df = dataframe, columns must include ['Open', 'High', 'Low', 'Close']\n",
    "    # i = dataframe index\n",
    "    \n",
    "    if 'tr' not in df.columns:\n",
    "        df['tr'] = np.nan\n",
    "    \n",
    "    if i == 0:\n",
    "        return\n",
    "    \n",
    "    current_high = df.iloc[i]['High']\n",
    "    current_low = df.iloc[i]['Low']\n",
    "    pre_close = df.iloc[i-1]['Close']\n",
    "        \n",
    "    method_1 = abs(current_high - current_low)\n",
    "    method_2 = abs(current_high - pre_close)\n",
    "    method_3 = abs(current_low - pre_close)\n",
    "        \n",
    "    TR = max(method_1, method_2, method_3)\n",
    "    \n",
    "    df.iloc[i, df.columns.get_loc('tr')] = TR"
   ]
  },
  {
   "cell_type": "markdown",
   "metadata": {},
   "source": [
    "### atr function"
   ]
  },
  {
   "cell_type": "code",
   "execution_count": 10,
   "metadata": {},
   "outputs": [],
   "source": [
    "def atr(df,i,n=14):\n",
    "    # df = dataframe, columns must include ['Open', 'High', 'Low', 'Close']\n",
    "    # i = dataframe index\n",
    "    # n = variable determines length of algorithm \n",
    "    \n",
    "    true_range(df,i)\n",
    "    \n",
    "    if 'ATR' not in df.columns:\n",
    "        df['ATR'] = np.nan\n",
    "        df['ATR_diff'] = np.nan\n",
    "    \n",
    "    if i > n-1:\n",
    "        ATR = df.iloc[i-(n-1) : i+1]['tr'].mean()\n",
    "        \n",
    "        df.iloc[i, df.columns.get_loc('ATR')] = ATR\n",
    "        \n",
    "        diff = ATR - df.iloc[i-1]['ATR']\n",
    "        df.iloc[i, df.columns.get_loc('ATR_diff')] = diff "
   ]
  },
  {
   "cell_type": "markdown",
   "metadata": {},
   "source": [
    "## Average Directional Index (ADX)"
   ]
  },
  {
   "cell_type": "markdown",
   "metadata": {},
   "source": [
    "ADX = avg((i) DX bars)  \n",
    "DX = (abs(positive DMI - negative DMI) / (positive DMI + negative DMI)) * 100\n",
    "\n",
    "> i = bar count  \n",
    "\n",
    "> positive DMI = avg(positive DX)  \n",
    "> negative DMI = avg(negative DX)  \n",
    "\n",
    "> positive DX = ((if high diff > low diff) and (if high diff is > 0)) = high diff, (else) = 0  \n",
    "> negative DX = ((if low diff > high diff) and (if low diff is > 0)) = low diff, (else) = 0  \n",
    "\n",
    "> high diff = current high - previous high  \n",
    "> low diff = current low - previous low"
   ]
  },
  {
   "cell_type": "markdown",
   "metadata": {},
   "source": [
    ">>Note: Trading view uses EMA over simple moving averages, values may differ."
   ]
  },
  {
   "cell_type": "markdown",
   "metadata": {},
   "source": [
    "### adx variables"
   ]
  },
  {
   "cell_type": "code",
   "execution_count": 11,
   "metadata": {},
   "outputs": [],
   "source": [
    "def adx_vars(df,i):\n",
    "    # df = dataframe, columns must include ['Open', 'High', 'Low', 'Close']\n",
    "    # i = dataframe index\n",
    "\n",
    "    if 'pos_dx' not in df.columns:\n",
    "        df['pos_dx'] = np.nan\n",
    "    \n",
    "    if 'neg_dx' not in df.columns:\n",
    "        df['neg_dx'] = np.nan\n",
    "        \n",
    "    if i == 0:\n",
    "        return\n",
    "    \n",
    "    #differencing the highs and lows\n",
    "    current_high = df.iloc[i]['High']\n",
    "    previous_high = df.iloc[i-1]['High']\n",
    "    \n",
    "    current_low = df.iloc[i]['Low']\n",
    "    previous_low = df.iloc[i-1]['Low']\n",
    "    \n",
    "    high_diff = current_high - previous_high\n",
    "    low_diff = current_low - previous_low\n",
    "    \n",
    "    #calculate positive and negative DX\n",
    "    if (high_diff > low_diff) and (high_diff > 0):\n",
    "        \n",
    "        df.iloc[i, df.columns.get_loc('pos_dx')] = high_diff\n",
    "        df.iloc[i, df.columns.get_loc('neg_dx')] = 0\n",
    "        \n",
    "    elif(low_diff > high_diff) and (low_diff > 0):\n",
    "      \n",
    "        df.iloc[i, df.columns.get_loc('pos_dx')] = 0\n",
    "        df.iloc[i, df.columns.get_loc('neg_dx')] = low_diff\n",
    "        \n",
    "    else:\n",
    "        df.iloc[i, df.columns.get_loc('pos_dx')] = 0\n",
    "        df.iloc[i, df.columns.get_loc('neg_dx')] = 0"
   ]
  },
  {
   "cell_type": "markdown",
   "metadata": {},
   "source": [
    "### adx function"
   ]
  },
  {
   "cell_type": "code",
   "execution_count": 12,
   "metadata": {},
   "outputs": [],
   "source": [
    "def adx(df,i,n=14):\n",
    "    # df = dataframe, columns must include ['Open', 'High', 'Low', 'Close']\n",
    "    # i = dataframe index\n",
    "    # n = variable determines length of algorithm\n",
    "    \n",
    "    adx_vars(df,i)\n",
    "    \n",
    "    if 'ATR' not in df.columns:\n",
    "        atr(df,i,n)\n",
    "        \n",
    "    if 'dx' not in df.columns:\n",
    "        df['dx'] = np.nan\n",
    "    \n",
    "    if 'ADX' not in df.columns:\n",
    "        df['ADX'] = np.nan\n",
    "        df['ADX_diff'] = np.nan\n",
    "    \n",
    "    if i > n-1:\n",
    "        # calculating smooth pos, neg dx\n",
    "        avg_pos_dx = df.iloc[i-(n-1):i+1]['pos_dx'].mean()\n",
    "        avg_neg_dx = df.iloc[i-(n-1):i+1]['neg_dx'].mean()\n",
    "        \n",
    "        #calculating pos, neg DMI\n",
    "        ATR = df.iloc[i]['ATR']\n",
    "        pos_dmi = (avg_pos_dx / ATR) * 100\n",
    "        neg_dmi = (avg_neg_dx / ATR) * 100\n",
    "        \n",
    "        #calculating direction index (dx)\n",
    "        dx = (abs(pos_dmi - neg_dmi)/ (pos_dmi + neg_dmi))*100\n",
    "        df.iloc[i, df.columns.get_loc('dx')] = dx\n",
    "        \n",
    "        if i > n*2-2:\n",
    "            adx = df.iloc[i-13:i+1]['dx'].mean()\n",
    "            df.iloc[i, df.columns.get_loc('ADX')] = adx \n",
    "            \n",
    "            diff = adx - df.iloc[i-1]['ADX']\n",
    "            df.iloc[i, df.columns.get_loc('ADX_diff')] = diff "
   ]
  },
  {
   "cell_type": "code",
   "execution_count": null,
   "metadata": {},
   "outputs": [],
   "source": []
  },
  {
   "cell_type": "code",
   "execution_count": null,
   "metadata": {},
   "outputs": [],
   "source": []
  }
 ],
 "metadata": {
  "kernelspec": {
   "display_name": "Python 3",
   "language": "python",
   "name": "python3"
  },
  "language_info": {
   "codemirror_mode": {
    "name": "ipython",
    "version": 3
   },
   "file_extension": ".py",
   "mimetype": "text/x-python",
   "name": "python",
   "nbconvert_exporter": "python",
   "pygments_lexer": "ipython3",
   "version": "3.6.9"
  },
  "toc": {
   "base_numbering": 1,
   "nav_menu": {},
   "number_sections": true,
   "sideBar": true,
   "skip_h1_title": false,
   "title_cell": "Table of Contents",
   "title_sidebar": "Contents",
   "toc_cell": false,
   "toc_position": {
    "height": "calc(100% - 180px)",
    "left": "10px",
    "top": "150px",
    "width": "346px"
   },
   "toc_section_display": true,
   "toc_window_display": false
  }
 },
 "nbformat": 4,
 "nbformat_minor": 4
}
